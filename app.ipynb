{
  "nbformat": 4,
  "nbformat_minor": 0,
  "metadata": {
    "colab": {
      "name": "app.ipynb",
      "provenance": [],
      "collapsed_sections": []
    },
    "kernelspec": {
      "name": "python3",
      "display_name": "Python 3"
    },
    "language_info": {
      "name": "python"
    }
  },
  "cells": [
    {
      "cell_type": "code",
      "metadata": {
        "id": "RBHBqMp2x8P9"
      },
      "source": [
        "pip install flask-ngrok"
      ],
      "execution_count": null,
      "outputs": []
    },
    {
      "cell_type": "code",
      "metadata": {
        "id": "z3OqxtJ-Aj9g"
      },
      "source": [
        "# from flask_ngrok import run_with_ngrok\n",
        "from flask import Flask, request, jsonify, render_template\n",
        "import random\n",
        "import numpy as np\n",
        "import os\n",
        "import pickle"
      ],
      "execution_count": null,
      "outputs": []
    },
    {
      "cell_type": "code",
      "metadata": {
        "colab": {
          "base_uri": "https://localhost:8080/"
        },
        "id": "1MdXQRX4gb3R",
        "outputId": "a8c17ae4-f58f-48ff-b52f-a99b5de0ab37"
      },
      "source": [
        "cd /content/drive/MyDrive/ML/ML Projects/Titanic Survival/"
      ],
      "execution_count": null,
      "outputs": [
        {
          "output_type": "stream",
          "name": "stdout",
          "text": [
            "/content/drive/MyDrive/ML/ML Projects/Titanic Survival\n"
          ]
        }
      ]
    },
    {
      "cell_type": "code",
      "metadata": {
        "id": "noDjuV5XHx4T"
      },
      "source": [
        "app = Flask(__name__)\n",
        "# run_with_ngrok(app)\n",
        "model = pickle.load(open('titanic_survival.pkl','rb'))"
      ],
      "execution_count": null,
      "outputs": []
    },
    {
      "cell_type": "code",
      "metadata": {
        "id": "S_18SSefIHV8"
      },
      "source": [
        "@app.route('/')\n",
        "def hello():\n",
        "  return render_template('index.html')"
      ],
      "execution_count": null,
      "outputs": []
    },
    {
      "cell_type": "code",
      "metadata": {
        "id": "0L2rlkGgvqiI"
      },
      "source": [
        "@app.route('/predict',methods=['POST'])\n",
        "def predict():    \n",
        "    input = [x for x in request.form.values()]\n",
        "    # input = [float(j) if i ==5 else j for i,j in enumerate(input)]\n",
        "    print(input)\n",
        "    test_data = np.array(input).reshape(1,-1)\n",
        "    y_pred = model.predict(test_data)[0]\n",
        "    if y_pred == 0:\n",
        "      text = 'ohh!! no , this person didnt survived'\n",
        "    else:\n",
        "      text = 'congrats!!! this person survived titanic incident'\n",
        "\n",
        "    return render_template('output.html', prediction_text = text)"
      ],
      "execution_count": null,
      "outputs": []
    },
    {
      "cell_type": "code",
      "metadata": {
        "colab": {
          "base_uri": "https://localhost:8080/"
        },
        "id": "5wW4tXvgIU9Q",
        "outputId": "389b6fa5-b552-4913-e4f1-e06d8db18207"
      },
      "source": [
        "if __name__ == '__main__':\n",
        "  app.run()\n"
      ],
      "execution_count": null,
      "outputs": [
        {
          "output_type": "stream",
          "name": "stdout",
          "text": [
            " * Serving Flask app \"__main__\" (lazy loading)\n",
            " * Environment: production\n",
            "\u001b[31m   WARNING: This is a development server. Do not use it in a production deployment.\u001b[0m\n",
            "\u001b[2m   Use a production WSGI server instead.\u001b[0m\n",
            " * Debug mode: off\n"
          ]
        },
        {
          "output_type": "stream",
          "name": "stderr",
          "text": [
            " * Running on http://127.0.0.1:5000/ (Press CTRL+C to quit)\n"
          ]
        },
        {
          "output_type": "stream",
          "name": "stdout",
          "text": [
            " * Running on http://89e6-34-125-55-2.ngrok.io\n",
            " * Traffic stats available on http://127.0.0.1:4040\n"
          ]
        },
        {
          "output_type": "stream",
          "name": "stderr",
          "text": [
            "127.0.0.1 - - [19/Nov/2021 10:01:39] \"\u001b[37mGET / HTTP/1.1\u001b[0m\" 200 -\n",
            "127.0.0.1 - - [19/Nov/2021 10:01:40] \"\u001b[37mGET /static/css/style.css HTTP/1.1\u001b[0m\" 200 -\n",
            "127.0.0.1 - - [19/Nov/2021 10:01:41] \"\u001b[33mGET /favicon.ico HTTP/1.1\u001b[0m\" 404 -\n",
            "127.0.0.1 - - [19/Nov/2021 10:02:06] \"\u001b[37mPOST /predict HTTP/1.1\u001b[0m\" 200 -\n"
          ]
        },
        {
          "output_type": "stream",
          "name": "stdout",
          "text": [
            "['1', 'female', '22', '02', '0', '25.22', 'Southampton', 'woman']\n"
          ]
        }
      ]
    }
  ]
}