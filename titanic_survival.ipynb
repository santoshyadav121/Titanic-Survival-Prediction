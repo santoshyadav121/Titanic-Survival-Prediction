{
  "nbformat": 4,
  "nbformat_minor": 0,
  "metadata": {
    "colab": {
      "name": "titanic_survival.ipynb",
      "provenance": [],
      "collapsed_sections": []
    },
    "kernelspec": {
      "name": "python3",
      "display_name": "Python 3"
    },
    "language_info": {
      "name": "python"
    }
  },
  "cells": [
    {
      "cell_type": "code",
      "metadata": {
        "id": "Xq6y5y4iSiwB"
      },
      "source": [
        "# Importing all the libraries we need for model development\n",
        "import numpy as np\n",
        "import pandas as pd\n",
        "import matplotlib.pyplot as plt\n",
        "import seaborn as sns\n",
        "from sklearn.model_selection import train_test_split, GridSearchCV, StratifiedKFold\n",
        "from sklearn import linear_model, metrics\n",
        "\n",
        "from  sklearn.neighbors import KNeighborsClassifier\n",
        "from sklearn.linear_model import LogisticRegression\n",
        "from sklearn.svm import SVC\n",
        "from sklearn.naive_bayes import GaussianNB\n",
        "from sklearn.tree import DecisionTreeClassifier\n",
        "from sklearn.ensemble import RandomForestClassifier\n",
        "\n",
        "from sklearn.preprocessing import StandardScaler, LabelEncoder,OneHotEncoder\n",
        "from collections import Counter\n",
        "from imblearn.over_sampling import SMOTE, RandomOverSampler\n",
        "from imblearn.under_sampling import RandomUnderSampler\n",
        "from imblearn.pipeline import Pipeline,make_pipeline\n",
        "from sklearn.manifold import TSNE\n",
        "from sklearn.impute import SimpleImputer\n",
        "from sklearn.compose import ColumnTransformer\n",
        "import os \n",
        "import pickle\n",
        "import random\n",
        "\n",
        "# import warnings filter\n",
        "from warnings import simplefilter\n",
        "# ignore all future warnings\n",
        "simplefilter(action='ignore', category=FutureWarning)"
      ],
      "execution_count": null,
      "outputs": []
    },
    {
      "cell_type": "markdown",
      "metadata": {
        "id": "LMXjk5TXoAqR"
      },
      "source": [
        "## **Observing the dataset**"
      ]
    },
    {
      "cell_type": "code",
      "metadata": {
        "colab": {
          "base_uri": "https://localhost:8080/",
          "height": 424
        },
        "id": "gYVvQkIChBfH",
        "outputId": "05e4b40c-fa2c-4b6b-eaeb-51eb4543a20c"
      },
      "source": [
        "# Loading titanic data into dataframe\n",
        "df_load = sns.load_dataset('titanic')\n",
        "df_load"
      ],
      "execution_count": null,
      "outputs": [
        {
          "output_type": "execute_result",
          "data": {
            "text/html": [
              "\n",
              "  <div id=\"df-0ebcd9d6-3a0e-45c6-ad9a-f2f70f6a71a5\">\n",
              "    <div class=\"colab-df-container\">\n",
              "      <div>\n",
              "<style scoped>\n",
              "    .dataframe tbody tr th:only-of-type {\n",
              "        vertical-align: middle;\n",
              "    }\n",
              "\n",
              "    .dataframe tbody tr th {\n",
              "        vertical-align: top;\n",
              "    }\n",
              "\n",
              "    .dataframe thead th {\n",
              "        text-align: right;\n",
              "    }\n",
              "</style>\n",
              "<table border=\"1\" class=\"dataframe\">\n",
              "  <thead>\n",
              "    <tr style=\"text-align: right;\">\n",
              "      <th></th>\n",
              "      <th>survived</th>\n",
              "      <th>pclass</th>\n",
              "      <th>sex</th>\n",
              "      <th>age</th>\n",
              "      <th>sibsp</th>\n",
              "      <th>parch</th>\n",
              "      <th>fare</th>\n",
              "      <th>embarked</th>\n",
              "      <th>class</th>\n",
              "      <th>who</th>\n",
              "      <th>adult_male</th>\n",
              "      <th>deck</th>\n",
              "      <th>embark_town</th>\n",
              "      <th>alive</th>\n",
              "      <th>alone</th>\n",
              "    </tr>\n",
              "  </thead>\n",
              "  <tbody>\n",
              "    <tr>\n",
              "      <th>0</th>\n",
              "      <td>0</td>\n",
              "      <td>3</td>\n",
              "      <td>male</td>\n",
              "      <td>22.0</td>\n",
              "      <td>1</td>\n",
              "      <td>0</td>\n",
              "      <td>7.2500</td>\n",
              "      <td>S</td>\n",
              "      <td>Third</td>\n",
              "      <td>man</td>\n",
              "      <td>True</td>\n",
              "      <td>NaN</td>\n",
              "      <td>Southampton</td>\n",
              "      <td>no</td>\n",
              "      <td>False</td>\n",
              "    </tr>\n",
              "    <tr>\n",
              "      <th>1</th>\n",
              "      <td>1</td>\n",
              "      <td>1</td>\n",
              "      <td>female</td>\n",
              "      <td>38.0</td>\n",
              "      <td>1</td>\n",
              "      <td>0</td>\n",
              "      <td>71.2833</td>\n",
              "      <td>C</td>\n",
              "      <td>First</td>\n",
              "      <td>woman</td>\n",
              "      <td>False</td>\n",
              "      <td>C</td>\n",
              "      <td>Cherbourg</td>\n",
              "      <td>yes</td>\n",
              "      <td>False</td>\n",
              "    </tr>\n",
              "    <tr>\n",
              "      <th>2</th>\n",
              "      <td>1</td>\n",
              "      <td>3</td>\n",
              "      <td>female</td>\n",
              "      <td>26.0</td>\n",
              "      <td>0</td>\n",
              "      <td>0</td>\n",
              "      <td>7.9250</td>\n",
              "      <td>S</td>\n",
              "      <td>Third</td>\n",
              "      <td>woman</td>\n",
              "      <td>False</td>\n",
              "      <td>NaN</td>\n",
              "      <td>Southampton</td>\n",
              "      <td>yes</td>\n",
              "      <td>True</td>\n",
              "    </tr>\n",
              "    <tr>\n",
              "      <th>3</th>\n",
              "      <td>1</td>\n",
              "      <td>1</td>\n",
              "      <td>female</td>\n",
              "      <td>35.0</td>\n",
              "      <td>1</td>\n",
              "      <td>0</td>\n",
              "      <td>53.1000</td>\n",
              "      <td>S</td>\n",
              "      <td>First</td>\n",
              "      <td>woman</td>\n",
              "      <td>False</td>\n",
              "      <td>C</td>\n",
              "      <td>Southampton</td>\n",
              "      <td>yes</td>\n",
              "      <td>False</td>\n",
              "    </tr>\n",
              "    <tr>\n",
              "      <th>4</th>\n",
              "      <td>0</td>\n",
              "      <td>3</td>\n",
              "      <td>male</td>\n",
              "      <td>35.0</td>\n",
              "      <td>0</td>\n",
              "      <td>0</td>\n",
              "      <td>8.0500</td>\n",
              "      <td>S</td>\n",
              "      <td>Third</td>\n",
              "      <td>man</td>\n",
              "      <td>True</td>\n",
              "      <td>NaN</td>\n",
              "      <td>Southampton</td>\n",
              "      <td>no</td>\n",
              "      <td>True</td>\n",
              "    </tr>\n",
              "    <tr>\n",
              "      <th>...</th>\n",
              "      <td>...</td>\n",
              "      <td>...</td>\n",
              "      <td>...</td>\n",
              "      <td>...</td>\n",
              "      <td>...</td>\n",
              "      <td>...</td>\n",
              "      <td>...</td>\n",
              "      <td>...</td>\n",
              "      <td>...</td>\n",
              "      <td>...</td>\n",
              "      <td>...</td>\n",
              "      <td>...</td>\n",
              "      <td>...</td>\n",
              "      <td>...</td>\n",
              "      <td>...</td>\n",
              "    </tr>\n",
              "    <tr>\n",
              "      <th>886</th>\n",
              "      <td>0</td>\n",
              "      <td>2</td>\n",
              "      <td>male</td>\n",
              "      <td>27.0</td>\n",
              "      <td>0</td>\n",
              "      <td>0</td>\n",
              "      <td>13.0000</td>\n",
              "      <td>S</td>\n",
              "      <td>Second</td>\n",
              "      <td>man</td>\n",
              "      <td>True</td>\n",
              "      <td>NaN</td>\n",
              "      <td>Southampton</td>\n",
              "      <td>no</td>\n",
              "      <td>True</td>\n",
              "    </tr>\n",
              "    <tr>\n",
              "      <th>887</th>\n",
              "      <td>1</td>\n",
              "      <td>1</td>\n",
              "      <td>female</td>\n",
              "      <td>19.0</td>\n",
              "      <td>0</td>\n",
              "      <td>0</td>\n",
              "      <td>30.0000</td>\n",
              "      <td>S</td>\n",
              "      <td>First</td>\n",
              "      <td>woman</td>\n",
              "      <td>False</td>\n",
              "      <td>B</td>\n",
              "      <td>Southampton</td>\n",
              "      <td>yes</td>\n",
              "      <td>True</td>\n",
              "    </tr>\n",
              "    <tr>\n",
              "      <th>888</th>\n",
              "      <td>0</td>\n",
              "      <td>3</td>\n",
              "      <td>female</td>\n",
              "      <td>NaN</td>\n",
              "      <td>1</td>\n",
              "      <td>2</td>\n",
              "      <td>23.4500</td>\n",
              "      <td>S</td>\n",
              "      <td>Third</td>\n",
              "      <td>woman</td>\n",
              "      <td>False</td>\n",
              "      <td>NaN</td>\n",
              "      <td>Southampton</td>\n",
              "      <td>no</td>\n",
              "      <td>False</td>\n",
              "    </tr>\n",
              "    <tr>\n",
              "      <th>889</th>\n",
              "      <td>1</td>\n",
              "      <td>1</td>\n",
              "      <td>male</td>\n",
              "      <td>26.0</td>\n",
              "      <td>0</td>\n",
              "      <td>0</td>\n",
              "      <td>30.0000</td>\n",
              "      <td>C</td>\n",
              "      <td>First</td>\n",
              "      <td>man</td>\n",
              "      <td>True</td>\n",
              "      <td>C</td>\n",
              "      <td>Cherbourg</td>\n",
              "      <td>yes</td>\n",
              "      <td>True</td>\n",
              "    </tr>\n",
              "    <tr>\n",
              "      <th>890</th>\n",
              "      <td>0</td>\n",
              "      <td>3</td>\n",
              "      <td>male</td>\n",
              "      <td>32.0</td>\n",
              "      <td>0</td>\n",
              "      <td>0</td>\n",
              "      <td>7.7500</td>\n",
              "      <td>Q</td>\n",
              "      <td>Third</td>\n",
              "      <td>man</td>\n",
              "      <td>True</td>\n",
              "      <td>NaN</td>\n",
              "      <td>Queenstown</td>\n",
              "      <td>no</td>\n",
              "      <td>True</td>\n",
              "    </tr>\n",
              "  </tbody>\n",
              "</table>\n",
              "<p>891 rows × 15 columns</p>\n",
              "</div>\n",
              "      <button class=\"colab-df-convert\" onclick=\"convertToInteractive('df-0ebcd9d6-3a0e-45c6-ad9a-f2f70f6a71a5')\"\n",
              "              title=\"Convert this dataframe to an interactive table.\"\n",
              "              style=\"display:none;\">\n",
              "        \n",
              "  <svg xmlns=\"http://www.w3.org/2000/svg\" height=\"24px\"viewBox=\"0 0 24 24\"\n",
              "       width=\"24px\">\n",
              "    <path d=\"M0 0h24v24H0V0z\" fill=\"none\"/>\n",
              "    <path d=\"M18.56 5.44l.94 2.06.94-2.06 2.06-.94-2.06-.94-.94-2.06-.94 2.06-2.06.94zm-11 1L8.5 8.5l.94-2.06 2.06-.94-2.06-.94L8.5 2.5l-.94 2.06-2.06.94zm10 10l.94 2.06.94-2.06 2.06-.94-2.06-.94-.94-2.06-.94 2.06-2.06.94z\"/><path d=\"M17.41 7.96l-1.37-1.37c-.4-.4-.92-.59-1.43-.59-.52 0-1.04.2-1.43.59L10.3 9.45l-7.72 7.72c-.78.78-.78 2.05 0 2.83L4 21.41c.39.39.9.59 1.41.59.51 0 1.02-.2 1.41-.59l7.78-7.78 2.81-2.81c.8-.78.8-2.07 0-2.86zM5.41 20L4 18.59l7.72-7.72 1.47 1.35L5.41 20z\"/>\n",
              "  </svg>\n",
              "      </button>\n",
              "      \n",
              "  <style>\n",
              "    .colab-df-container {\n",
              "      display:flex;\n",
              "      flex-wrap:wrap;\n",
              "      gap: 12px;\n",
              "    }\n",
              "\n",
              "    .colab-df-convert {\n",
              "      background-color: #E8F0FE;\n",
              "      border: none;\n",
              "      border-radius: 50%;\n",
              "      cursor: pointer;\n",
              "      display: none;\n",
              "      fill: #1967D2;\n",
              "      height: 32px;\n",
              "      padding: 0 0 0 0;\n",
              "      width: 32px;\n",
              "    }\n",
              "\n",
              "    .colab-df-convert:hover {\n",
              "      background-color: #E2EBFA;\n",
              "      box-shadow: 0px 1px 2px rgba(60, 64, 67, 0.3), 0px 1px 3px 1px rgba(60, 64, 67, 0.15);\n",
              "      fill: #174EA6;\n",
              "    }\n",
              "\n",
              "    [theme=dark] .colab-df-convert {\n",
              "      background-color: #3B4455;\n",
              "      fill: #D2E3FC;\n",
              "    }\n",
              "\n",
              "    [theme=dark] .colab-df-convert:hover {\n",
              "      background-color: #434B5C;\n",
              "      box-shadow: 0px 1px 3px 1px rgba(0, 0, 0, 0.15);\n",
              "      filter: drop-shadow(0px 1px 2px rgba(0, 0, 0, 0.3));\n",
              "      fill: #FFFFFF;\n",
              "    }\n",
              "  </style>\n",
              "\n",
              "      <script>\n",
              "        const buttonEl =\n",
              "          document.querySelector('#df-0ebcd9d6-3a0e-45c6-ad9a-f2f70f6a71a5 button.colab-df-convert');\n",
              "        buttonEl.style.display =\n",
              "          google.colab.kernel.accessAllowed ? 'block' : 'none';\n",
              "\n",
              "        async function convertToInteractive(key) {\n",
              "          const element = document.querySelector('#df-0ebcd9d6-3a0e-45c6-ad9a-f2f70f6a71a5');\n",
              "          const dataTable =\n",
              "            await google.colab.kernel.invokeFunction('convertToInteractive',\n",
              "                                                     [key], {});\n",
              "          if (!dataTable) return;\n",
              "\n",
              "          const docLinkHtml = 'Like what you see? Visit the ' +\n",
              "            '<a target=\"_blank\" href=https://colab.research.google.com/notebooks/data_table.ipynb>data table notebook</a>'\n",
              "            + ' to learn more about interactive tables.';\n",
              "          element.innerHTML = '';\n",
              "          dataTable['output_type'] = 'display_data';\n",
              "          await google.colab.output.renderOutput(dataTable, element);\n",
              "          const docLink = document.createElement('div');\n",
              "          docLink.innerHTML = docLinkHtml;\n",
              "          element.appendChild(docLink);\n",
              "        }\n",
              "      </script>\n",
              "    </div>\n",
              "  </div>\n",
              "  "
            ],
            "text/plain": [
              "     survived  pclass     sex   age  ...  deck  embark_town  alive  alone\n",
              "0           0       3    male  22.0  ...   NaN  Southampton     no  False\n",
              "1           1       1  female  38.0  ...     C    Cherbourg    yes  False\n",
              "2           1       3  female  26.0  ...   NaN  Southampton    yes   True\n",
              "3           1       1  female  35.0  ...     C  Southampton    yes  False\n",
              "4           0       3    male  35.0  ...   NaN  Southampton     no   True\n",
              "..        ...     ...     ...   ...  ...   ...          ...    ...    ...\n",
              "886         0       2    male  27.0  ...   NaN  Southampton     no   True\n",
              "887         1       1  female  19.0  ...     B  Southampton    yes   True\n",
              "888         0       3  female   NaN  ...   NaN  Southampton     no  False\n",
              "889         1       1    male  26.0  ...     C    Cherbourg    yes   True\n",
              "890         0       3    male  32.0  ...   NaN   Queenstown     no   True\n",
              "\n",
              "[891 rows x 15 columns]"
            ]
          },
          "metadata": {},
          "execution_count": 38
        }
      ]
    },
    {
      "cell_type": "markdown",
      "metadata": {
        "id": "UMRcXL2tiTNJ"
      },
      "source": [
        "Just by looking the dataset we can conclude various points:-\n",
        "\n",
        "*   Pclass and Class column both are representing the same information so we can say there is redundancy, since Pclass data is in integer hence we can keep it and remove Class column.\n",
        "*   Similarly embarked and embark_town here we can remove any one lets say embarked.\n",
        "\n",
        "*   Similarly survived and alive column here we can remove alive column.\n",
        "*   Similarly sex and adult_male column here we can remove adult_male column.\n",
        "\n",
        "*   whenever sibsp and parch is zero ie. whenever the person has no siblings or parents or child he is traveling alone , so we can say alone column is a subset of sibsp and parch column so we can remove alone column also\n",
        "\n",
        "\n",
        "\n",
        "\n",
        "\n",
        "\n",
        "\n",
        "\n"
      ]
    },
    {
      "cell_type": "code",
      "source": [
        "df_load['deck'].unique()"
      ],
      "metadata": {
        "colab": {
          "base_uri": "https://localhost:8080/"
        },
        "id": "cXNTupcg-HPR",
        "outputId": "22a24f35-73ae-4007-f750-5a37f746d655"
      },
      "execution_count": null,
      "outputs": [
        {
          "output_type": "execute_result",
          "data": {
            "text/plain": [
              "[NaN, 'C', 'E', 'G', 'D', 'A', 'B', 'F']\n",
              "Categories (7, object): ['C', 'E', 'G', 'D', 'A', 'B', 'F']"
            ]
          },
          "metadata": {},
          "execution_count": 39
        }
      ]
    },
    {
      "cell_type": "code",
      "metadata": {
        "id": "F4bPzCrKlBNn"
      },
      "source": [
        "df = df_load[[\t'pclass', 'sex', 'age', 'sibsp', 'parch', 'fare','embark_town','who','deck', 'survived']]"
      ],
      "execution_count": null,
      "outputs": []
    },
    {
      "cell_type": "markdown",
      "metadata": {
        "id": "FYaW-RTjoJIl"
      },
      "source": [
        "## **Handling missing dataset**"
      ]
    },
    {
      "cell_type": "markdown",
      "metadata": {
        "id": "3getsKX5oTUR"
      },
      "source": [
        "lets check which column have how many missing data"
      ]
    },
    {
      "cell_type": "code",
      "metadata": {
        "colab": {
          "base_uri": "https://localhost:8080/"
        },
        "id": "jSD-p714pzJ_",
        "outputId": "21e61cd5-b2e8-4c36-eef9-b513335427b8"
      },
      "source": [
        "df.isnull().sum() "
      ],
      "execution_count": null,
      "outputs": [
        {
          "output_type": "execute_result",
          "data": {
            "text/plain": [
              "pclass           0\n",
              "sex              0\n",
              "age            177\n",
              "sibsp            0\n",
              "parch            0\n",
              "fare             0\n",
              "embark_town      2\n",
              "who              0\n",
              "deck           688\n",
              "survived         0\n",
              "dtype: int64"
            ]
          },
          "metadata": {},
          "execution_count": 4
        }
      ]
    },
    {
      "cell_type": "markdown",
      "metadata": {
        "id": "VHhi09dBnzFn"
      },
      "source": [
        "from this we can conclude some points:-\n",
        "\n",
        "*   we have total 891 dataset and deck column more than 70% of data missing imputing such large data is not a very good idea hence we will drop deck column\n",
        "*   embark_town has only 2 missing data since the number is very small removing this 2 row will not affect the dataset hence we wil remove such rows.\n",
        "\n",
        "*   age column have 177 missing values since the number is not so high not so low we can neither remove rows nor remove column also it is very important feature hence we will ampute null values."
      ]
    },
    {
      "cell_type": "code",
      "metadata": {
        "id": "5EjVYUKiq_Zs"
      },
      "source": [
        "df = df.dropna(subset = ['embark_town'] )\n",
        "df = df.drop(columns='deck', axis = 1)"
      ],
      "execution_count": null,
      "outputs": []
    },
    {
      "cell_type": "markdown",
      "metadata": {
        "id": "Oew0wAuusQGT"
      },
      "source": [
        "now we have handled embark and deck column lets ampute age column .  \n",
        "Amputation of numerical values can take place in 2 ways if the distribution of data is normal or there is no significant outliers we can use mean amputation but if there are outliers or data is left or right skewed median amputatation is better. lets check!"
      ]
    },
    {
      "cell_type": "code",
      "metadata": {
        "colab": {
          "base_uri": "https://localhost:8080/",
          "height": 351
        },
        "id": "LPPb3uqKsG32",
        "outputId": "0a975a44-4865-4dbd-d6cd-c39deb9093cf"
      },
      "source": [
        "fig, ax = plt.subplots(1,2, figsize = (15,5))\n",
        "sns.distplot(df['age'], ax =  ax[0])\n",
        "sns.boxplot(y = df['age'], ax = ax[1])"
      ],
      "execution_count": null,
      "outputs": [
        {
          "output_type": "execute_result",
          "data": {
            "text/plain": [
              "<matplotlib.axes._subplots.AxesSubplot at 0x7f67e29a1090>"
            ]
          },
          "metadata": {},
          "execution_count": 6
        },
        {
          "output_type": "display_data",
          "data": {
            "image/png": "[encoded data removed]",
            "text/plain": [
              "<Figure size 1080x360 with 2 Axes>"
            ]
          },
          "metadata": {
            "needs_background": "light"
          }
        }
      ]
    },
    {
      "cell_type": "markdown",
      "metadata": {
        "id": "qjUjd02ntRJS"
      },
      "source": [
        "As we can see distribution plot of age is slightly left skewed it means there are some outliers ,same thing can be seen in boxplot hence we should use median amputation to handle the missing values of age column."
      ]
    },
    {
      "cell_type": "code",
      "metadata": {
        "colab": {
          "base_uri": "https://localhost:8080/"
        },
        "id": "pIPRobjZtpyX",
        "outputId": "23e83699-63b4-42a4-e6ff-40c6ffa62c9d"
      },
      "source": [
        "df['age'] = df['age'].fillna(df.groupby('pclass')['age'].transform('median') )\n",
        "df.isnull().sum()"
      ],
      "execution_count": null,
      "outputs": [
        {
          "output_type": "execute_result",
          "data": {
            "text/plain": [
              "pclass         0\n",
              "sex            0\n",
              "age            0\n",
              "sibsp          0\n",
              "parch          0\n",
              "fare           0\n",
              "embark_town    0\n",
              "who            0\n",
              "survived       0\n",
              "dtype: int64"
            ]
          },
          "metadata": {},
          "execution_count": 7
        }
      ]
    },
    {
      "cell_type": "markdown",
      "metadata": {
        "id": "gSvkcUtBt48e"
      },
      "source": [
        "Hurray!! now we have handled all missing values lets move on to exploratory data analysis(EDA) ie. lets make some visual analysis"
      ]
    },
    {
      "cell_type": "markdown",
      "metadata": {
        "id": "fpP6ryw-0BZG"
      },
      "source": [
        "**Surival Analysis**"
      ]
    },
    {
      "cell_type": "code",
      "metadata": {
        "colab": {
          "base_uri": "https://localhost:8080/",
          "height": 279
        },
        "id": "ksHi1E_J3IPn",
        "outputId": "34827058-bd47-43b0-e1ff-8a307cbe9a31"
      },
      "source": [
        "fig, ax = plt.subplots(1,2,figsize = (20,4))\n",
        "sns.countplot(data = df, x = 'sex', hue = 'survived', ax = ax[0])\n",
        "ax[0].legend(title = 'survived',loc='upper right', bbox_to_anchor=(1,1))\n",
        "for p in ax[0].patches:\n",
        "    height = p.get_height()\n",
        "    ax[0].text(p.get_x()+p.get_width()/2., height + 0.1,height ,ha=\"center\" ,color = 'Black',fontsize = 12)\n",
        "    \n",
        "sns.countplot(data = df, x = 'who', hue = 'survived', ax = ax[1])\n",
        "ax[1].legend(title = 'survived',loc='upper right', bbox_to_anchor=(1,1))\n",
        "for p in ax[1].patches:\n",
        "    height = p.get_height()\n",
        "    ax[1].text(p.get_x()+p.get_width()/2., height + 0.1,height ,ha=\"center\" ,color = 'Black',fontsize = 12)"
      ],
      "execution_count": null,
      "outputs": [
        {
          "output_type": "display_data",
          "data": {
            "image/png": "[encoded data removed]",
            "text/plain": [
              "<Figure size 1440x288 with 2 Axes>"
            ]
          },
          "metadata": {
            "needs_background": "light"
          }
        }
      ]
    },
    {
      "cell_type": "markdown",
      "metadata": {
        "id": "1uK3XSfSz4Sh"
      },
      "source": [
        "\n",
        "*   this  count plot shows that only 109 males survived on the other side 233 females have survived which is 2 times of males survived\n",
        "also it shows that only 81 females died  on the other side 468 males died which is 6 times of females died.\n",
        "\n",
        "*   Also we can see countplot of man, woman and child where we can see more than 50% of people died are man  where survival rate of woman and child are more than death rate.\n",
        "\n"
      ]
    },
    {
      "cell_type": "code",
      "metadata": {
        "colab": {
          "base_uri": "https://localhost:8080/",
          "height": 388
        },
        "id": "EcFE7qXp0DMp",
        "outputId": "990034e6-b8c5-4647-9a41-197196abbc06"
      },
      "source": [
        "plt.figure(figsize = (10,6))\n",
        "ax = sns.countplot(data = df, x = 'pclass', hue = 'survived',)\n",
        "for p in ax.patches:\n",
        "  height = p.get_height()\n",
        "  ax.text(p.get_x()+p.get_width()/2., height + .1,height ,ha=\"center\" ,color = 'Black',fontsize = 14)"
      ],
      "execution_count": null,
      "outputs": [
        {
          "output_type": "display_data",
          "data": {
            "image/png": "[encoded data removed]",
            "text/plain": [
              "<Figure size 720x432 with 1 Axes>"
            ]
          },
          "metadata": {
            "needs_background": "light"
          }
        }
      ]
    },
    {
      "cell_type": "markdown",
      "metadata": {
        "id": "oiYSchvhz6_4"
      },
      "source": [
        "this count plot shows that in class 3 more people have died than class 1&2 \n",
        "also in class 1 more people have survived than class 2&3"
      ]
    },
    {
      "cell_type": "code",
      "metadata": {
        "colab": {
          "base_uri": "https://localhost:8080/",
          "height": 487
        },
        "id": "Vfw6XlJsE4Ca",
        "outputId": "9f63bc40-875b-47f4-fac5-9c324b55abed"
      },
      "source": [
        "fig, ax = plt.subplots(1,2,figsize = (20,4))\n",
        "sns.countplot(data = df, x = 'sibsp', hue = 'survived', ax = ax[0])\n",
        "ax[0].legend(title = 'survived',loc='upper right', bbox_to_anchor=(1,1))\n",
        "for p in ax[0].patches:\n",
        "    height = p.get_height()\n",
        "    ax[0].text(p.get_x()+p.get_width()/2., height + 0.1,height ,ha=\"center\" ,color = 'Black',fontsize = 12)\n",
        "    \n",
        "sns.countplot(data = df, x = 'parch', hue = 'survived', ax = ax[1])\n",
        "ax[1].legend(title = 'survived',loc='upper right', bbox_to_anchor=(1,1))\n",
        "for p in ax[1].patches:\n",
        "    height = p.get_height()\n",
        "    ax[1].text(p.get_x()+p.get_width()/2., height + 0.1,height ,ha=\"center\" ,color = 'Black',fontsize = 12)\n"
      ],
      "execution_count": null,
      "outputs": [
        {
          "output_type": "stream",
          "name": "stderr",
          "text": [
            "posx and posy should be finite values\n",
            "posx and posy should be finite values\n",
            "posx and posy should be finite values\n",
            "posx and posy should be finite values\n",
            "posx and posy should be finite values\n",
            "posx and posy should be finite values\n",
            "posx and posy should be finite values\n",
            "posx and posy should be finite values\n",
            "posx and posy should be finite values\n",
            "posx and posy should be finite values\n",
            "posx and posy should be finite values\n",
            "posx and posy should be finite values\n"
          ]
        },
        {
          "output_type": "display_data",
          "data": {
            "image/png": "[encoded data removed]",
            "text/plain": [
              "<Figure size 1440x288 with 2 Axes>"
            ]
          },
          "metadata": {
            "needs_background": "light"
          }
        }
      ]
    },
    {
      "cell_type": "markdown",
      "metadata": {
        "id": "sHUe2i2p0Bea"
      },
      "source": [
        "\n",
        "*   Here we can see the no. of siblings aboarded the ship from each family and people with no siblings are likely to be less survived than people with 1 or more siblings.\n",
        "*   similarly we can see people with children or parents aboarded and people with no children or parents are likely to be less survived than people with with 1 or more children or parents.\n",
        " "
      ]
    },
    {
      "cell_type": "code",
      "metadata": {
        "colab": {
          "base_uri": "https://localhost:8080/",
          "height": 404
        },
        "id": "qDdEAQbD_S3s",
        "outputId": "7f60529d-351d-4310-d30b-b733878c6b97"
      },
      "source": [
        "plt.figure(figsize = (10,7))\n",
        "sns.relplot(data=df, y='fare', x = 'age',hue = 'pclass', palette = plt.cm.Set1 )"
      ],
      "execution_count": null,
      "outputs": [
        {
          "output_type": "execute_result",
          "data": {
            "text/plain": [
              "<seaborn.axisgrid.FacetGrid at 0x7f67e0866150>"
            ]
          },
          "metadata": {},
          "execution_count": 11
        },
        {
          "output_type": "display_data",
          "data": {
            "text/plain": [
              "<Figure size 720x504 with 0 Axes>"
            ]
          },
          "metadata": {}
        },
        {
          "output_type": "display_data",
          "data": {
            "image/png": "[encoded data removed]",
            "text/plain": [
              "<Figure size 402.375x360 with 1 Axes>"
            ]
          },
          "metadata": {
            "needs_background": "light"
          }
        }
      ]
    },
    {
      "cell_type": "markdown",
      "metadata": {
        "id": "dadBKKc80Gux"
      },
      "source": [
        "This scatter plot shows that class 1 fares are higher than 2&3 but class 3 \n",
        "fares are highly varible for range of ages than class 2&3 fares where fares are mostly stable and const for ranges of ages"
      ]
    },
    {
      "cell_type": "code",
      "metadata": {
        "colab": {
          "base_uri": "https://localhost:8080/",
          "height": 265
        },
        "id": "7vrgeXQKfsb3",
        "outputId": "eaa4062a-849e-4092-92da-40e21e724acf"
      },
      "source": [
        "fig, ax = plt.subplots(1,2,figsize = (25,4))\n",
        "sns.boxplot(data = df , x = df['age'], ax = ax[0])\n",
        "sns.boxplot(data = df , x = df['fare'], ax = ax[1])"
      ],
      "execution_count": null,
      "outputs": [
        {
          "output_type": "execute_result",
          "data": {
            "text/plain": [
              "<matplotlib.axes._subplots.AxesSubplot at 0x7f67d78625d0>"
            ]
          },
          "metadata": {},
          "execution_count": 12
        },
        {
          "output_type": "display_data",
          "data": {
            "image/png": "[encoded data removed]",
            "text/plain": [
              "<Figure size 1800x288 with 2 Axes>"
            ]
          },
          "metadata": {
            "needs_background": "light"
          }
        }
      ]
    },
    {
      "cell_type": "markdown",
      "metadata": {
        "id": "OsCz6mQd41C2"
      },
      "source": [
        "In this plot we can see that both have enough ouliers but there are more outliers in fare than age."
      ]
    },
    {
      "cell_type": "markdown",
      "metadata": {
        "id": "2cgbKC_r07ge"
      },
      "source": [
        "## **Converting Category values**"
      ]
    },
    {
      "cell_type": "code",
      "metadata": {
        "colab": {
          "base_uri": "https://localhost:8080/",
          "height": 206
        },
        "id": "OirbL9ha8ogy",
        "outputId": "5fe437cd-e206-429e-c0a8-55d96a03fbe2"
      },
      "source": [
        "df.head()"
      ],
      "execution_count": null,
      "outputs": [
        {
          "output_type": "execute_result",
          "data": {
            "text/html": [
              "\n",
              "  <div id=\"df-368e52f6-e598-46d3-943d-9969de242c6b\">\n",
              "    <div class=\"colab-df-container\">\n",
              "      <div>\n",
              "<style scoped>\n",
              "    .dataframe tbody tr th:only-of-type {\n",
              "        vertical-align: middle;\n",
              "    }\n",
              "\n",
              "    .dataframe tbody tr th {\n",
              "        vertical-align: top;\n",
              "    }\n",
              "\n",
              "    .dataframe thead th {\n",
              "        text-align: right;\n",
              "    }\n",
              "</style>\n",
              "<table border=\"1\" class=\"dataframe\">\n",
              "  <thead>\n",
              "    <tr style=\"text-align: right;\">\n",
              "      <th></th>\n",
              "      <th>pclass</th>\n",
              "      <th>sex</th>\n",
              "      <th>age</th>\n",
              "      <th>sibsp</th>\n",
              "      <th>parch</th>\n",
              "      <th>fare</th>\n",
              "      <th>embark_town</th>\n",
              "      <th>who</th>\n",
              "      <th>survived</th>\n",
              "    </tr>\n",
              "  </thead>\n",
              "  <tbody>\n",
              "    <tr>\n",
              "      <th>0</th>\n",
              "      <td>3</td>\n",
              "      <td>male</td>\n",
              "      <td>22.0</td>\n",
              "      <td>1</td>\n",
              "      <td>0</td>\n",
              "      <td>7.2500</td>\n",
              "      <td>Southampton</td>\n",
              "      <td>man</td>\n",
              "      <td>0</td>\n",
              "    </tr>\n",
              "    <tr>\n",
              "      <th>1</th>\n",
              "      <td>1</td>\n",
              "      <td>female</td>\n",
              "      <td>38.0</td>\n",
              "      <td>1</td>\n",
              "      <td>0</td>\n",
              "      <td>71.2833</td>\n",
              "      <td>Cherbourg</td>\n",
              "      <td>woman</td>\n",
              "      <td>1</td>\n",
              "    </tr>\n",
              "    <tr>\n",
              "      <th>2</th>\n",
              "      <td>3</td>\n",
              "      <td>female</td>\n",
              "      <td>26.0</td>\n",
              "      <td>0</td>\n",
              "      <td>0</td>\n",
              "      <td>7.9250</td>\n",
              "      <td>Southampton</td>\n",
              "      <td>woman</td>\n",
              "      <td>1</td>\n",
              "    </tr>\n",
              "    <tr>\n",
              "      <th>3</th>\n",
              "      <td>1</td>\n",
              "      <td>female</td>\n",
              "      <td>35.0</td>\n",
              "      <td>1</td>\n",
              "      <td>0</td>\n",
              "      <td>53.1000</td>\n",
              "      <td>Southampton</td>\n",
              "      <td>woman</td>\n",
              "      <td>1</td>\n",
              "    </tr>\n",
              "    <tr>\n",
              "      <th>4</th>\n",
              "      <td>3</td>\n",
              "      <td>male</td>\n",
              "      <td>35.0</td>\n",
              "      <td>0</td>\n",
              "      <td>0</td>\n",
              "      <td>8.0500</td>\n",
              "      <td>Southampton</td>\n",
              "      <td>man</td>\n",
              "      <td>0</td>\n",
              "    </tr>\n",
              "  </tbody>\n",
              "</table>\n",
              "</div>\n",
              "      <button class=\"colab-df-convert\" onclick=\"convertToInteractive('df-368e52f6-e598-46d3-943d-9969de242c6b')\"\n",
              "              title=\"Convert this dataframe to an interactive table.\"\n",
              "              style=\"display:none;\">\n",
              "        \n",
              "  <svg xmlns=\"http://www.w3.org/2000/svg\" height=\"24px\"viewBox=\"0 0 24 24\"\n",
              "       width=\"24px\">\n",
              "    <path d=\"M0 0h24v24H0V0z\" fill=\"none\"/>\n",
              "    <path d=\"M18.56 5.44l.94 2.06.94-2.06 2.06-.94-2.06-.94-.94-2.06-.94 2.06-2.06.94zm-11 1L8.5 8.5l.94-2.06 2.06-.94-2.06-.94L8.5 2.5l-.94 2.06-2.06.94zm10 10l.94 2.06.94-2.06 2.06-.94-2.06-.94-.94-2.06-.94 2.06-2.06.94z\"/><path d=\"M17.41 7.96l-1.37-1.37c-.4-.4-.92-.59-1.43-.59-.52 0-1.04.2-1.43.59L10.3 9.45l-7.72 7.72c-.78.78-.78 2.05 0 2.83L4 21.41c.39.39.9.59 1.41.59.51 0 1.02-.2 1.41-.59l7.78-7.78 2.81-2.81c.8-.78.8-2.07 0-2.86zM5.41 20L4 18.59l7.72-7.72 1.47 1.35L5.41 20z\"/>\n",
              "  </svg>\n",
              "      </button>\n",
              "      \n",
              "  <style>\n",
              "    .colab-df-container {\n",
              "      display:flex;\n",
              "      flex-wrap:wrap;\n",
              "      gap: 12px;\n",
              "    }\n",
              "\n",
              "    .colab-df-convert {\n",
              "      background-color: #E8F0FE;\n",
              "      border: none;\n",
              "      border-radius: 50%;\n",
              "      cursor: pointer;\n",
              "      display: none;\n",
              "      fill: #1967D2;\n",
              "      height: 32px;\n",
              "      padding: 0 0 0 0;\n",
              "      width: 32px;\n",
              "    }\n",
              "\n",
              "    .colab-df-convert:hover {\n",
              "      background-color: #E2EBFA;\n",
              "      box-shadow: 0px 1px 2px rgba(60, 64, 67, 0.3), 0px 1px 3px 1px rgba(60, 64, 67, 0.15);\n",
              "      fill: #174EA6;\n",
              "    }\n",
              "\n",
              "    [theme=dark] .colab-df-convert {\n",
              "      background-color: #3B4455;\n",
              "      fill: #D2E3FC;\n",
              "    }\n",
              "\n",
              "    [theme=dark] .colab-df-convert:hover {\n",
              "      background-color: #434B5C;\n",
              "      box-shadow: 0px 1px 3px 1px rgba(0, 0, 0, 0.15);\n",
              "      filter: drop-shadow(0px 1px 2px rgba(0, 0, 0, 0.3));\n",
              "      fill: #FFFFFF;\n",
              "    }\n",
              "  </style>\n",
              "\n",
              "      <script>\n",
              "        const buttonEl =\n",
              "          document.querySelector('#df-368e52f6-e598-46d3-943d-9969de242c6b button.colab-df-convert');\n",
              "        buttonEl.style.display =\n",
              "          google.colab.kernel.accessAllowed ? 'block' : 'none';\n",
              "\n",
              "        async function convertToInteractive(key) {\n",
              "          const element = document.querySelector('#df-368e52f6-e598-46d3-943d-9969de242c6b');\n",
              "          const dataTable =\n",
              "            await google.colab.kernel.invokeFunction('convertToInteractive',\n",
              "                                                     [key], {});\n",
              "          if (!dataTable) return;\n",
              "\n",
              "          const docLinkHtml = 'Like what you see? Visit the ' +\n",
              "            '<a target=\"_blank\" href=https://colab.research.google.com/notebooks/data_table.ipynb>data table notebook</a>'\n",
              "            + ' to learn more about interactive tables.';\n",
              "          element.innerHTML = '';\n",
              "          dataTable['output_type'] = 'display_data';\n",
              "          await google.colab.output.renderOutput(dataTable, element);\n",
              "          const docLink = document.createElement('div');\n",
              "          docLink.innerHTML = docLinkHtml;\n",
              "          element.appendChild(docLink);\n",
              "        }\n",
              "      </script>\n",
              "    </div>\n",
              "  </div>\n",
              "  "
            ],
            "text/plain": [
              "   pclass     sex   age  sibsp  parch     fare  embark_town    who  survived\n",
              "0       3    male  22.0      1      0   7.2500  Southampton    man         0\n",
              "1       1  female  38.0      1      0  71.2833    Cherbourg  woman         1\n",
              "2       3  female  26.0      0      0   7.9250  Southampton  woman         1\n",
              "3       1  female  35.0      1      0  53.1000  Southampton  woman         1\n",
              "4       3    male  35.0      0      0   8.0500  Southampton    man         0"
            ]
          },
          "metadata": {},
          "execution_count": 13
        }
      ]
    },
    {
      "cell_type": "markdown",
      "metadata": {
        "id": "CnDMJhkR88Kj"
      },
      "source": [
        "\n",
        "\n",
        "*   Since sex, embark_town and who column have categorical values we will convert them into binary vectors using  get dummies .\n",
        "\n",
        "*  Also we are converting Pclass into binary vector although it is numerical value, since that value is not ordinal means pclass 1 is not less than pclass 3 both have no relation hence we need to categories them into binary vectors.\n",
        "\n"
      ]
    },
    {
      "cell_type": "code",
      "metadata": {
        "id": "lgnZlTrGo__7",
        "colab": {
          "base_uri": "https://localhost:8080/",
          "height": 270
        },
        "outputId": "b72737ed-328d-4497-9e66-bfbb8fd30d09"
      },
      "source": [
        "df_cat = pd.get_dummies(df, columns= ['sex','embark_town','pclass','who'])\n",
        "df_cat.head()"
      ],
      "execution_count": null,
      "outputs": [
        {
          "output_type": "execute_result",
          "data": {
            "text/html": [
              "\n",
              "  <div id=\"df-a89b92d5-327b-4aa2-90c8-fbc927025f72\">\n",
              "    <div class=\"colab-df-container\">\n",
              "      <div>\n",
              "<style scoped>\n",
              "    .dataframe tbody tr th:only-of-type {\n",
              "        vertical-align: middle;\n",
              "    }\n",
              "\n",
              "    .dataframe tbody tr th {\n",
              "        vertical-align: top;\n",
              "    }\n",
              "\n",
              "    .dataframe thead th {\n",
              "        text-align: right;\n",
              "    }\n",
              "</style>\n",
              "<table border=\"1\" class=\"dataframe\">\n",
              "  <thead>\n",
              "    <tr style=\"text-align: right;\">\n",
              "      <th></th>\n",
              "      <th>age</th>\n",
              "      <th>sibsp</th>\n",
              "      <th>parch</th>\n",
              "      <th>fare</th>\n",
              "      <th>survived</th>\n",
              "      <th>sex_female</th>\n",
              "      <th>sex_male</th>\n",
              "      <th>embark_town_Cherbourg</th>\n",
              "      <th>embark_town_Queenstown</th>\n",
              "      <th>embark_town_Southampton</th>\n",
              "      <th>pclass_1</th>\n",
              "      <th>pclass_2</th>\n",
              "      <th>pclass_3</th>\n",
              "      <th>who_child</th>\n",
              "      <th>who_man</th>\n",
              "      <th>who_woman</th>\n",
              "    </tr>\n",
              "  </thead>\n",
              "  <tbody>\n",
              "    <tr>\n",
              "      <th>0</th>\n",
              "      <td>22.0</td>\n",
              "      <td>1</td>\n",
              "      <td>0</td>\n",
              "      <td>7.2500</td>\n",
              "      <td>0</td>\n",
              "      <td>0</td>\n",
              "      <td>1</td>\n",
              "      <td>0</td>\n",
              "      <td>0</td>\n",
              "      <td>1</td>\n",
              "      <td>0</td>\n",
              "      <td>0</td>\n",
              "      <td>1</td>\n",
              "      <td>0</td>\n",
              "      <td>1</td>\n",
              "      <td>0</td>\n",
              "    </tr>\n",
              "    <tr>\n",
              "      <th>1</th>\n",
              "      <td>38.0</td>\n",
              "      <td>1</td>\n",
              "      <td>0</td>\n",
              "      <td>71.2833</td>\n",
              "      <td>1</td>\n",
              "      <td>1</td>\n",
              "      <td>0</td>\n",
              "      <td>1</td>\n",
              "      <td>0</td>\n",
              "      <td>0</td>\n",
              "      <td>1</td>\n",
              "      <td>0</td>\n",
              "      <td>0</td>\n",
              "      <td>0</td>\n",
              "      <td>0</td>\n",
              "      <td>1</td>\n",
              "    </tr>\n",
              "    <tr>\n",
              "      <th>2</th>\n",
              "      <td>26.0</td>\n",
              "      <td>0</td>\n",
              "      <td>0</td>\n",
              "      <td>7.9250</td>\n",
              "      <td>1</td>\n",
              "      <td>1</td>\n",
              "      <td>0</td>\n",
              "      <td>0</td>\n",
              "      <td>0</td>\n",
              "      <td>1</td>\n",
              "      <td>0</td>\n",
              "      <td>0</td>\n",
              "      <td>1</td>\n",
              "      <td>0</td>\n",
              "      <td>0</td>\n",
              "      <td>1</td>\n",
              "    </tr>\n",
              "    <tr>\n",
              "      <th>3</th>\n",
              "      <td>35.0</td>\n",
              "      <td>1</td>\n",
              "      <td>0</td>\n",
              "      <td>53.1000</td>\n",
              "      <td>1</td>\n",
              "      <td>1</td>\n",
              "      <td>0</td>\n",
              "      <td>0</td>\n",
              "      <td>0</td>\n",
              "      <td>1</td>\n",
              "      <td>1</td>\n",
              "      <td>0</td>\n",
              "      <td>0</td>\n",
              "      <td>0</td>\n",
              "      <td>0</td>\n",
              "      <td>1</td>\n",
              "    </tr>\n",
              "    <tr>\n",
              "      <th>4</th>\n",
              "      <td>35.0</td>\n",
              "      <td>0</td>\n",
              "      <td>0</td>\n",
              "      <td>8.0500</td>\n",
              "      <td>0</td>\n",
              "      <td>0</td>\n",
              "      <td>1</td>\n",
              "      <td>0</td>\n",
              "      <td>0</td>\n",
              "      <td>1</td>\n",
              "      <td>0</td>\n",
              "      <td>0</td>\n",
              "      <td>1</td>\n",
              "      <td>0</td>\n",
              "      <td>1</td>\n",
              "      <td>0</td>\n",
              "    </tr>\n",
              "  </tbody>\n",
              "</table>\n",
              "</div>\n",
              "      <button class=\"colab-df-convert\" onclick=\"convertToInteractive('df-a89b92d5-327b-4aa2-90c8-fbc927025f72')\"\n",
              "              title=\"Convert this dataframe to an interactive table.\"\n",
              "              style=\"display:none;\">\n",
              "        \n",
              "  <svg xmlns=\"http://www.w3.org/2000/svg\" height=\"24px\"viewBox=\"0 0 24 24\"\n",
              "       width=\"24px\">\n",
              "    <path d=\"M0 0h24v24H0V0z\" fill=\"none\"/>\n",
              "    <path d=\"M18.56 5.44l.94 2.06.94-2.06 2.06-.94-2.06-.94-.94-2.06-.94 2.06-2.06.94zm-11 1L8.5 8.5l.94-2.06 2.06-.94-2.06-.94L8.5 2.5l-.94 2.06-2.06.94zm10 10l.94 2.06.94-2.06 2.06-.94-2.06-.94-.94-2.06-.94 2.06-2.06.94z\"/><path d=\"M17.41 7.96l-1.37-1.37c-.4-.4-.92-.59-1.43-.59-.52 0-1.04.2-1.43.59L10.3 9.45l-7.72 7.72c-.78.78-.78 2.05 0 2.83L4 21.41c.39.39.9.59 1.41.59.51 0 1.02-.2 1.41-.59l7.78-7.78 2.81-2.81c.8-.78.8-2.07 0-2.86zM5.41 20L4 18.59l7.72-7.72 1.47 1.35L5.41 20z\"/>\n",
              "  </svg>\n",
              "      </button>\n",
              "      \n",
              "  <style>\n",
              "    .colab-df-container {\n",
              "      display:flex;\n",
              "      flex-wrap:wrap;\n",
              "      gap: 12px;\n",
              "    }\n",
              "\n",
              "    .colab-df-convert {\n",
              "      background-color: #E8F0FE;\n",
              "      border: none;\n",
              "      border-radius: 50%;\n",
              "      cursor: pointer;\n",
              "      display: none;\n",
              "      fill: #1967D2;\n",
              "      height: 32px;\n",
              "      padding: 0 0 0 0;\n",
              "      width: 32px;\n",
              "    }\n",
              "\n",
              "    .colab-df-convert:hover {\n",
              "      background-color: #E2EBFA;\n",
              "      box-shadow: 0px 1px 2px rgba(60, 64, 67, 0.3), 0px 1px 3px 1px rgba(60, 64, 67, 0.15);\n",
              "      fill: #174EA6;\n",
              "    }\n",
              "\n",
              "    [theme=dark] .colab-df-convert {\n",
              "      background-color: #3B4455;\n",
              "      fill: #D2E3FC;\n",
              "    }\n",
              "\n",
              "    [theme=dark] .colab-df-convert:hover {\n",
              "      background-color: #434B5C;\n",
              "      box-shadow: 0px 1px 3px 1px rgba(0, 0, 0, 0.15);\n",
              "      filter: drop-shadow(0px 1px 2px rgba(0, 0, 0, 0.3));\n",
              "      fill: #FFFFFF;\n",
              "    }\n",
              "  </style>\n",
              "\n",
              "      <script>\n",
              "        const buttonEl =\n",
              "          document.querySelector('#df-a89b92d5-327b-4aa2-90c8-fbc927025f72 button.colab-df-convert');\n",
              "        buttonEl.style.display =\n",
              "          google.colab.kernel.accessAllowed ? 'block' : 'none';\n",
              "\n",
              "        async function convertToInteractive(key) {\n",
              "          const element = document.querySelector('#df-a89b92d5-327b-4aa2-90c8-fbc927025f72');\n",
              "          const dataTable =\n",
              "            await google.colab.kernel.invokeFunction('convertToInteractive',\n",
              "                                                     [key], {});\n",
              "          if (!dataTable) return;\n",
              "\n",
              "          const docLinkHtml = 'Like what you see? Visit the ' +\n",
              "            '<a target=\"_blank\" href=https://colab.research.google.com/notebooks/data_table.ipynb>data table notebook</a>'\n",
              "            + ' to learn more about interactive tables.';\n",
              "          element.innerHTML = '';\n",
              "          dataTable['output_type'] = 'display_data';\n",
              "          await google.colab.output.renderOutput(dataTable, element);\n",
              "          const docLink = document.createElement('div');\n",
              "          docLink.innerHTML = docLinkHtml;\n",
              "          element.appendChild(docLink);\n",
              "        }\n",
              "      </script>\n",
              "    </div>\n",
              "  </div>\n",
              "  "
            ],
            "text/plain": [
              "    age  sibsp  parch     fare  ...  pclass_3  who_child  who_man  who_woman\n",
              "0  22.0      1      0   7.2500  ...         1          0        1          0\n",
              "1  38.0      1      0  71.2833  ...         0          0        0          1\n",
              "2  26.0      0      0   7.9250  ...         1          0        0          1\n",
              "3  35.0      1      0  53.1000  ...         0          0        0          1\n",
              "4  35.0      0      0   8.0500  ...         1          0        1          0\n",
              "\n",
              "[5 rows x 16 columns]"
            ]
          },
          "metadata": {},
          "execution_count": 14
        }
      ]
    },
    {
      "cell_type": "markdown",
      "metadata": {
        "id": "iUkEQvOj-90o"
      },
      "source": [
        "## **Preparing Data**"
      ]
    },
    {
      "cell_type": "code",
      "metadata": {
        "id": "FOoTuZPl1Gh_"
      },
      "source": [
        "# Seperating the data and target variable\n",
        "label = df_cat['survived'].values\n",
        "data = df_cat.drop(columns = 'survived').values"
      ],
      "execution_count": null,
      "outputs": []
    },
    {
      "cell_type": "code",
      "metadata": {
        "colab": {
          "base_uri": "https://localhost:8080/"
        },
        "id": "OeGVtFA4MG4q",
        "outputId": "e4992fc0-05f7-47de-a677-de14c3c1afa9"
      },
      "source": [
        "Counter(label)"
      ],
      "execution_count": null,
      "outputs": [
        {
          "output_type": "execute_result",
          "data": {
            "text/plain": [
              "Counter({0: 549, 1: 340})"
            ]
          },
          "metadata": {},
          "execution_count": 16
        }
      ]
    },
    {
      "cell_type": "code",
      "metadata": {
        "id": "Zmasd9cW1sXw"
      },
      "source": [
        "over = SMOTE(random_state=42)\n",
        "data_over, label_over = over.fit_resample(data,label)"
      ],
      "execution_count": null,
      "outputs": []
    },
    {
      "cell_type": "code",
      "metadata": {
        "colab": {
          "base_uri": "https://localhost:8080/"
        },
        "id": "X_Mtoosq20pZ",
        "outputId": "29bfac82-6975-4ff9-a8d9-3fbd092f380c"
      },
      "source": [
        "Counter(label_over)"
      ],
      "execution_count": null,
      "outputs": [
        {
          "output_type": "execute_result",
          "data": {
            "text/plain": [
              "Counter({0: 549, 1: 549})"
            ]
          },
          "metadata": {},
          "execution_count": 18
        }
      ]
    },
    {
      "cell_type": "code",
      "metadata": {
        "id": "srxSBOwZqonv"
      },
      "source": [
        "# dividing the data into 80-20 train test dataset\n",
        "x_train, x_test, y_train, y_test = train_test_split(data_over,label_over, test_size = .3, random_state = 42)"
      ],
      "execution_count": null,
      "outputs": []
    },
    {
      "cell_type": "code",
      "metadata": {
        "id": "xCsPDwF0JLct"
      },
      "source": [
        "# stadardising the dataset to remove the scaling factor\n",
        "std = StandardScaler()\n",
        "x_train_std = std.fit_transform(x_train)\n",
        "x_test_std = std.transform(x_test)"
      ],
      "execution_count": null,
      "outputs": []
    },
    {
      "cell_type": "markdown",
      "metadata": {
        "id": "899Vla2BS0TO"
      },
      "source": [
        "## **Data Prediction**"
      ]
    },
    {
      "cell_type": "code",
      "metadata": {
        "id": "d1AdKlJ-0ul2"
      },
      "source": [
        "knn = KNeighborsClassifier()\n",
        "log = LogisticRegression(random_state=42)\n",
        "svc_rbf = SVC(random_state=42)\n",
        "gnb = GaussianNB()\n",
        "tree = DecisionTreeClassifier(random_state=42)\n",
        "forest = RandomForestClassifier(random_state=42)"
      ],
      "execution_count": null,
      "outputs": []
    },
    {
      "cell_type": "code",
      "metadata": {
        "colab": {
          "base_uri": "https://localhost:8080/"
        },
        "id": "F1Y9ijzOEAnR",
        "outputId": "60d6d214-c87b-467c-98c8-209ba4fc5a1f"
      },
      "source": [
        "classifier = [knn, log, svc_rbf, gnb, tree, forest] \n",
        "for item in classifier:\n",
        "  item.fit(x_train_std,y_train)\n",
        "  y_true =  y_train\n",
        "  y_pred = item.predict(x_train_std)\n",
        "  print(f'the model is {item} ')\n",
        "  print(f'Accuracy : {metrics.accuracy_score(y_true, y_pred)}, F1-score : {metrics.f1_score(y_true,y_pred)}, roc_auc : {metrics.roc_auc_score(y_true,y_pred)}')"
      ],
      "execution_count": null,
      "outputs": [
        {
          "output_type": "stream",
          "name": "stdout",
          "text": [
            "the model is KNeighborsClassifier() \n",
            "Accuracy : 0.8723958333333334, F1-score : 0.8696808510638296, roc_auc : 0.8726118537508393\n",
            "the model is LogisticRegression(random_state=42) \n",
            "Accuracy : 0.8151041666666666, F1-score : 0.8091397849462366, roc_auc : 0.8153980752405949\n",
            "the model is SVC(random_state=42) \n",
            "Accuracy : 0.8307291666666666, F1-score : 0.8204419889502762, roc_auc : 0.8312274919123481\n",
            "the model is GaussianNB() \n",
            "Accuracy : 0.78515625, F1-score : 0.7785234899328859, roc_auc : 0.7854381574396223\n",
            "the model is DecisionTreeClassifier(random_state=42) \n",
            "Accuracy : 0.9869791666666666, F1-score : 0.9869791666666666, roc_auc : 0.987039410771328\n",
            "the model is RandomForestClassifier(random_state=42) \n",
            "Accuracy : 0.9869791666666666, F1-score : 0.987012987012987, roc_auc : 0.9870190644774055\n"
          ]
        }
      ]
    },
    {
      "cell_type": "code",
      "metadata": {
        "colab": {
          "base_uri": "https://localhost:8080/"
        },
        "id": "bcKmieP6KQxc",
        "outputId": "f57e34cb-68be-40ee-80cf-671545d86bff"
      },
      "source": [
        "classifier = [knn, log,  svc_rbf, gnb, tree, forest] \n",
        "for item in classifier:\n",
        "  item.fit(x_train_std,y_train)\n",
        "  y_true =  y_test\n",
        "  y_pred = item.predict(x_test_std)\n",
        "  print(f'the model is {item} ')\n",
        "  print(f'Accuracy : {metrics.accuracy_score(y_true, y_pred)}, F1-score : {metrics.f1_score(y_true,y_pred)}, roc_auc : {metrics.roc_auc_score(y_true,y_pred)}')"
      ],
      "execution_count": null,
      "outputs": [
        {
          "output_type": "stream",
          "name": "stdout",
          "text": [
            "the model is KNeighborsClassifier() \n",
            "Accuracy : 0.8333333333333334, F1-score : 0.8318042813455657, roc_auc : 0.8334435626102292\n",
            "the model is LogisticRegression(random_state=42) \n",
            "Accuracy : 0.8181818181818182, F1-score : 0.8159509202453987, roc_auc : 0.818231922398589\n",
            "the model is SVC(random_state=42) \n",
            "Accuracy : 0.8303030303030303, F1-score : 0.8227848101265822, roc_auc : 0.8298059964726632\n",
            "the model is GaussianNB() \n",
            "Accuracy : 0.8272727272727273, F1-score : 0.817891373801917, roc_auc : 0.8266093474426808\n",
            "the model is DecisionTreeClassifier(random_state=42) \n",
            "Accuracy : 0.8424242424242424, F1-score : 0.8424242424242424, roc_auc : 0.8427028218694884\n",
            "the model is RandomForestClassifier(random_state=42) \n",
            "Accuracy : 0.8151515151515152, F1-score : 0.8200589970501475, roc_auc : 0.8159171075837743\n"
          ]
        }
      ]
    },
    {
      "cell_type": "markdown",
      "metadata": {
        "id": "MTDwikT3N9HC"
      },
      "source": [
        "performance measures on train data shows that  decision tree and random forest perform better "
      ]
    },
    {
      "cell_type": "markdown",
      "metadata": {
        "id": "jwvRqYBmNtTS"
      },
      "source": [
        "performance measures on test data shows that decision tree  perform better but\n",
        " hence we go with decision tree model"
      ]
    },
    {
      "cell_type": "code",
      "metadata": {
        "colab": {
          "base_uri": "https://localhost:8080/"
        },
        "id": "6Onbz78i6QXQ",
        "outputId": "3ed1b966-bb37-4920-fba9-588b66625332"
      },
      "source": [
        "param = { 'criterion' : ['gini', 'entropy'],\n",
        "           'max_depth' : [2,4,6,8,10,12],\n",
        "            \"max_features\": [1,3,5,7,9,11,13],\n",
        "            \"min_samples_leaf\": [2,3,4] }\n",
        "cv = StratifiedKFold(n_splits=10, shuffle=True, random_state=42)\n",
        "# Create a based model\n",
        "svc_rbf = DecisionTreeClassifier(random_state=42)\n",
        "# Instantiate the grid search model\n",
        "grid = GridSearchCV(estimator = svc_rbf, param_grid = param, \n",
        "                          cv = cv,  scoring = 'accuracy')\n",
        "grid.fit(x_train_std,y_train)\n",
        "print(grid.best_params_)\n",
        "grid.best_score_"
      ],
      "execution_count": null,
      "outputs": [
        {
          "output_type": "stream",
          "name": "stdout",
          "text": [
            "{'criterion': 'entropy', 'max_depth': 6, 'max_features': 7, 'min_samples_leaf': 3}\n"
          ]
        },
        {
          "output_type": "execute_result",
          "data": {
            "text/plain": [
              "0.8411141490088859"
            ]
          },
          "metadata": {},
          "execution_count": 24
        }
      ]
    },
    {
      "cell_type": "code",
      "metadata": {
        "colab": {
          "base_uri": "https://localhost:8080/"
        },
        "id": "FQfSsVWbbnDs",
        "outputId": "4a4dd03e-e91c-48b8-ea8d-d3757f6f40dc"
      },
      "source": [
        "# grid.fit(x_train_std,y_train)\n",
        "y_true =  y_test\n",
        "y_pred = grid.predict(x_test_std)\n",
        "print(f'Accuracy : {metrics.accuracy_score(y_true, y_pred)}, F1-score : {metrics.f1_score(y_true,y_pred)}, roc_auc : {metrics.roc_auc_score(y_true,y_pred)}')"
      ],
      "execution_count": null,
      "outputs": [
        {
          "output_type": "stream",
          "name": "stdout",
          "text": [
            "Accuracy : 0.8212121212121212, F1-score : 0.8259587020648967, roc_auc : 0.821979717813051\n"
          ]
        }
      ]
    },
    {
      "cell_type": "markdown",
      "metadata": {
        "id": "QjkQf-PO1M6I"
      },
      "source": [
        "Since data was highly imbalanced hence we are using f1_score and roc curve parameters for performance\n"
      ]
    },
    {
      "cell_type": "markdown",
      "metadata": {
        "id": "jsQFXc1Z1SwS"
      },
      "source": [
        "1st graph shows the metrics parameters ie. precision, recall and f1_score and the 2nd graph shows roc_auc curve and its value\n"
      ]
    },
    {
      "cell_type": "code",
      "metadata": {
        "colab": {
          "base_uri": "https://localhost:8080/",
          "height": 351
        },
        "id": "SaSjXABUwLbc",
        "outputId": "35e81eb9-e521-43d0-e1e7-3b43ba6c6f63"
      },
      "source": [
        "fig , ax = plt.subplots(1,2, figsize = (15,5))\n",
        "report = metrics.classification_report(y_true, y_pred, output_dict=True, target_names=set(label))\n",
        "sns.heatmap(pd.DataFrame(report).iloc[:-1,:-3].T,  cmap = plt.cm.RdYlBu, cbar = False , annot=True, ax = ax[0])\n",
        "metrics.plot_roc_curve(grid,x_test,y_test, ax = ax[1])"
      ],
      "execution_count": null,
      "outputs": [
        {
          "output_type": "execute_result",
          "data": {
            "text/plain": [
              "<sklearn.metrics._plot.roc_curve.RocCurveDisplay at 0x7f67e0330050>"
            ]
          },
          "metadata": {},
          "execution_count": 26
        },
        {
          "output_type": "display_data",
          "data": {
            "image/png": "[encoded data removed]",
            "text/plain": [
              "<Figure size 1080x360 with 2 Axes>"
            ]
          },
          "metadata": {
            "needs_background": "light"
          }
        }
      ]
    },
    {
      "cell_type": "markdown",
      "metadata": {
        "id": "qVFxnJ0r1ZGt"
      },
      "source": [
        "In order to check how our model performs on tst data we can plot confusion matrix where diagonal values are correctly classified datasets\n"
      ]
    },
    {
      "cell_type": "code",
      "metadata": {
        "colab": {
          "base_uri": "https://localhost:8080/",
          "height": 475
        },
        "id": "1F-6a7htXjRK",
        "outputId": "c87063c6-059e-4707-bfa0-fa749acae899"
      },
      "source": [
        "cm = metrics.confusion_matrix(y_true, y_pred)\n",
        "plt.figure(figsize = (10,7))\n",
        "sns.heatmap(cm, xticklabels=set(label), yticklabels=set(label), fmt= 'd', cmap = plt.cm.Blues, cbar = False , annot=True)\n",
        "plt.ylabel('Actual Value')\n",
        "plt.xlabel('Predicted Value')\n",
        "plt.title('Actual vs predicted value on test data')"
      ],
      "execution_count": null,
      "outputs": [
        {
          "output_type": "execute_result",
          "data": {
            "text/plain": [
              "Text(0.5, 1.0, 'Actual vs predicted value on test data')"
            ]
          },
          "metadata": {},
          "execution_count": 27
        },
        {
          "output_type": "display_data",
          "data": {
            "image/png": "[encoded data removed]",
            "text/plain": [
              "<Figure size 720x504 with 1 Axes>"
            ]
          },
          "metadata": {
            "needs_background": "light"
          }
        }
      ]
    },
    {
      "cell_type": "markdown",
      "metadata": {
        "id": "4j2azBHg1fWg"
      },
      "source": [
        "In order to visualize decision decision tree here we are reducing the dimension of data into 2 features so that we can use meshplot\n"
      ]
    },
    {
      "cell_type": "code",
      "metadata": {
        "colab": {
          "base_uri": "https://localhost:8080/",
          "height": 444
        },
        "id": "0EzAeszGJ9HA",
        "outputId": "8dded8b3-def4-4beb-f971-a87326b48ee0"
      },
      "source": [
        "x = TSNE(n_components=2, random_state= 42).fit_transform(x_train)\n",
        "clf = DecisionTreeClassifier(criterion= 'entropy', max_depth = 6, min_samples_leaf = 3,random_state=42)\n",
        "clf.fit(x,y_train)\n",
        "\n",
        "x_min,x_max = x[:,0].min()-1, x[:,0].max()+1\n",
        "y_min,y_max = x[:,1].min()-1, x[:,1].max()+1\n",
        "h = .09\n",
        "xx,yy = np.meshgrid(np.arange(x_min,x_max,h),np.arange(y_min,y_max,h))\n",
        "\n",
        "Z = clf.predict(np.c_[xx.ravel(),yy.ravel()])\n",
        "\n",
        "plt.figure(figsize = (10,7))\n",
        "Z = Z.reshape(xx.shape)\n",
        "plt.pcolormesh(xx,yy,Z,cmap = plt.cm.Set3)\n",
        "\n",
        "# scatterplot for data points\n",
        "plt.scatter(x[:,0],x[:,1], c =y_train, cmap = plt.cm.flag)\n",
        "plt.xlim(xx.min(), xx.max())\n",
        "plt.ylim(yy.min(), yy.max())\n",
        "plt.title(\"Decision Tree\")\n",
        "plt.show()"
      ],
      "execution_count": null,
      "outputs": [
        {
          "output_type": "display_data",
          "data": {
            "image/png": "[encoded data removed]",
            "text/plain": [
              "<Figure size 720x504 with 1 Axes>"
            ]
          },
          "metadata": {
            "needs_background": "light"
          }
        }
      ]
    },
    {
      "cell_type": "markdown",
      "metadata": {
        "id": "aJyUoaEWWl4u"
      },
      "source": [
        "## **Model Deployment Procedure**"
      ]
    },
    {
      "cell_type": "markdown",
      "metadata": {
        "id": "HjbaFSsAhmPT"
      },
      "source": [
        "Whatever we have done above, in order to deploy it we need to make a pipeline where whole procedure happens in one go so lets make it!"
      ]
    },
    {
      "cell_type": "code",
      "metadata": {
        "colab": {
          "base_uri": "https://localhost:8080/",
          "height": 206
        },
        "id": "aZDNtTOGFe42",
        "outputId": "6fc57a43-15af-4316-cfd1-3290ed0da603"
      },
      "source": [
        "df.head()"
      ],
      "execution_count": null,
      "outputs": [
        {
          "output_type": "execute_result",
          "data": {
            "text/html": [
              "\n",
              "  <div id=\"df-eaf1ec3c-68b3-4079-a800-47fffcc56f75\">\n",
              "    <div class=\"colab-df-container\">\n",
              "      <div>\n",
              "<style scoped>\n",
              "    .dataframe tbody tr th:only-of-type {\n",
              "        vertical-align: middle;\n",
              "    }\n",
              "\n",
              "    .dataframe tbody tr th {\n",
              "        vertical-align: top;\n",
              "    }\n",
              "\n",
              "    .dataframe thead th {\n",
              "        text-align: right;\n",
              "    }\n",
              "</style>\n",
              "<table border=\"1\" class=\"dataframe\">\n",
              "  <thead>\n",
              "    <tr style=\"text-align: right;\">\n",
              "      <th></th>\n",
              "      <th>pclass</th>\n",
              "      <th>sex</th>\n",
              "      <th>age</th>\n",
              "      <th>sibsp</th>\n",
              "      <th>parch</th>\n",
              "      <th>fare</th>\n",
              "      <th>embark_town</th>\n",
              "      <th>who</th>\n",
              "      <th>survived</th>\n",
              "    </tr>\n",
              "  </thead>\n",
              "  <tbody>\n",
              "    <tr>\n",
              "      <th>0</th>\n",
              "      <td>3</td>\n",
              "      <td>male</td>\n",
              "      <td>22.0</td>\n",
              "      <td>1</td>\n",
              "      <td>0</td>\n",
              "      <td>7.2500</td>\n",
              "      <td>Southampton</td>\n",
              "      <td>man</td>\n",
              "      <td>0</td>\n",
              "    </tr>\n",
              "    <tr>\n",
              "      <th>1</th>\n",
              "      <td>1</td>\n",
              "      <td>female</td>\n",
              "      <td>38.0</td>\n",
              "      <td>1</td>\n",
              "      <td>0</td>\n",
              "      <td>71.2833</td>\n",
              "      <td>Cherbourg</td>\n",
              "      <td>woman</td>\n",
              "      <td>1</td>\n",
              "    </tr>\n",
              "    <tr>\n",
              "      <th>2</th>\n",
              "      <td>3</td>\n",
              "      <td>female</td>\n",
              "      <td>26.0</td>\n",
              "      <td>0</td>\n",
              "      <td>0</td>\n",
              "      <td>7.9250</td>\n",
              "      <td>Southampton</td>\n",
              "      <td>woman</td>\n",
              "      <td>1</td>\n",
              "    </tr>\n",
              "    <tr>\n",
              "      <th>3</th>\n",
              "      <td>1</td>\n",
              "      <td>female</td>\n",
              "      <td>35.0</td>\n",
              "      <td>1</td>\n",
              "      <td>0</td>\n",
              "      <td>53.1000</td>\n",
              "      <td>Southampton</td>\n",
              "      <td>woman</td>\n",
              "      <td>1</td>\n",
              "    </tr>\n",
              "    <tr>\n",
              "      <th>4</th>\n",
              "      <td>3</td>\n",
              "      <td>male</td>\n",
              "      <td>35.0</td>\n",
              "      <td>0</td>\n",
              "      <td>0</td>\n",
              "      <td>8.0500</td>\n",
              "      <td>Southampton</td>\n",
              "      <td>man</td>\n",
              "      <td>0</td>\n",
              "    </tr>\n",
              "  </tbody>\n",
              "</table>\n",
              "</div>\n",
              "      <button class=\"colab-df-convert\" onclick=\"convertToInteractive('df-eaf1ec3c-68b3-4079-a800-47fffcc56f75')\"\n",
              "              title=\"Convert this dataframe to an interactive table.\"\n",
              "              style=\"display:none;\">\n",
              "        \n",
              "  <svg xmlns=\"http://www.w3.org/2000/svg\" height=\"24px\"viewBox=\"0 0 24 24\"\n",
              "       width=\"24px\">\n",
              "    <path d=\"M0 0h24v24H0V0z\" fill=\"none\"/>\n",
              "    <path d=\"M18.56 5.44l.94 2.06.94-2.06 2.06-.94-2.06-.94-.94-2.06-.94 2.06-2.06.94zm-11 1L8.5 8.5l.94-2.06 2.06-.94-2.06-.94L8.5 2.5l-.94 2.06-2.06.94zm10 10l.94 2.06.94-2.06 2.06-.94-2.06-.94-.94-2.06-.94 2.06-2.06.94z\"/><path d=\"M17.41 7.96l-1.37-1.37c-.4-.4-.92-.59-1.43-.59-.52 0-1.04.2-1.43.59L10.3 9.45l-7.72 7.72c-.78.78-.78 2.05 0 2.83L4 21.41c.39.39.9.59 1.41.59.51 0 1.02-.2 1.41-.59l7.78-7.78 2.81-2.81c.8-.78.8-2.07 0-2.86zM5.41 20L4 18.59l7.72-7.72 1.47 1.35L5.41 20z\"/>\n",
              "  </svg>\n",
              "      </button>\n",
              "      \n",
              "  <style>\n",
              "    .colab-df-container {\n",
              "      display:flex;\n",
              "      flex-wrap:wrap;\n",
              "      gap: 12px;\n",
              "    }\n",
              "\n",
              "    .colab-df-convert {\n",
              "      background-color: #E8F0FE;\n",
              "      border: none;\n",
              "      border-radius: 50%;\n",
              "      cursor: pointer;\n",
              "      display: none;\n",
              "      fill: #1967D2;\n",
              "      height: 32px;\n",
              "      padding: 0 0 0 0;\n",
              "      width: 32px;\n",
              "    }\n",
              "\n",
              "    .colab-df-convert:hover {\n",
              "      background-color: #E2EBFA;\n",
              "      box-shadow: 0px 1px 2px rgba(60, 64, 67, 0.3), 0px 1px 3px 1px rgba(60, 64, 67, 0.15);\n",
              "      fill: #174EA6;\n",
              "    }\n",
              "\n",
              "    [theme=dark] .colab-df-convert {\n",
              "      background-color: #3B4455;\n",
              "      fill: #D2E3FC;\n",
              "    }\n",
              "\n",
              "    [theme=dark] .colab-df-convert:hover {\n",
              "      background-color: #434B5C;\n",
              "      box-shadow: 0px 1px 3px 1px rgba(0, 0, 0, 0.15);\n",
              "      filter: drop-shadow(0px 1px 2px rgba(0, 0, 0, 0.3));\n",
              "      fill: #FFFFFF;\n",
              "    }\n",
              "  </style>\n",
              "\n",
              "      <script>\n",
              "        const buttonEl =\n",
              "          document.querySelector('#df-eaf1ec3c-68b3-4079-a800-47fffcc56f75 button.colab-df-convert');\n",
              "        buttonEl.style.display =\n",
              "          google.colab.kernel.accessAllowed ? 'block' : 'none';\n",
              "\n",
              "        async function convertToInteractive(key) {\n",
              "          const element = document.querySelector('#df-eaf1ec3c-68b3-4079-a800-47fffcc56f75');\n",
              "          const dataTable =\n",
              "            await google.colab.kernel.invokeFunction('convertToInteractive',\n",
              "                                                     [key], {});\n",
              "          if (!dataTable) return;\n",
              "\n",
              "          const docLinkHtml = 'Like what you see? Visit the ' +\n",
              "            '<a target=\"_blank\" href=https://colab.research.google.com/notebooks/data_table.ipynb>data table notebook</a>'\n",
              "            + ' to learn more about interactive tables.';\n",
              "          element.innerHTML = '';\n",
              "          dataTable['output_type'] = 'display_data';\n",
              "          await google.colab.output.renderOutput(dataTable, element);\n",
              "          const docLink = document.createElement('div');\n",
              "          docLink.innerHTML = docLinkHtml;\n",
              "          element.appendChild(docLink);\n",
              "        }\n",
              "      </script>\n",
              "    </div>\n",
              "  </div>\n",
              "  "
            ],
            "text/plain": [
              "   pclass     sex   age  sibsp  parch     fare  embark_town    who  survived\n",
              "0       3    male  22.0      1      0   7.2500  Southampton    man         0\n",
              "1       1  female  38.0      1      0  71.2833    Cherbourg  woman         1\n",
              "2       3  female  26.0      0      0   7.9250  Southampton  woman         1\n",
              "3       1  female  35.0      1      0  53.1000  Southampton  woman         1\n",
              "4       3    male  35.0      0      0   8.0500  Southampton    man         0"
            ]
          },
          "metadata": {},
          "execution_count": 29
        }
      ]
    },
    {
      "cell_type": "code",
      "metadata": {
        "id": "GygsWfb2iE9L"
      },
      "source": [
        "lb = df['survived'].values\n",
        "dt = df.drop(columns='survived').values\n",
        "X_train,X_test,Y_train,Y_test = train_test_split(dt,lb,test_size=.3,random_state=42)"
      ],
      "execution_count": null,
      "outputs": []
    },
    {
      "cell_type": "code",
      "metadata": {
        "colab": {
          "base_uri": "https://localhost:8080/"
        },
        "id": "AqvZ_J7HLzo9",
        "outputId": "4519615d-7fa9-4ac3-82a4-25786edf4846"
      },
      "source": [
        "X_train"
      ],
      "execution_count": null,
      "outputs": [
        {
          "output_type": "execute_result",
          "data": {
            "text/plain": [
              "array([[1, 'female', 35.0, ..., 90.0, 'Southampton', 'woman'],\n",
              "       [3, 'female', 24.0, ..., 8.85, 'Southampton', 'woman'],\n",
              "       [3, 'male', 21.0, ..., 7.925, 'Southampton', 'man'],\n",
              "       ...,\n",
              "       [1, 'female', 48.0, ..., 25.9292, 'Southampton', 'woman'],\n",
              "       [3, 'female', 21.0, ..., 34.375, 'Southampton', 'woman'],\n",
              "       [3, 'male', 33.0, ..., 8.6542, 'Southampton', 'man']], dtype=object)"
            ]
          },
          "metadata": {},
          "execution_count": 31
        }
      ]
    },
    {
      "cell_type": "code",
      "metadata": {
        "colab": {
          "base_uri": "https://localhost:8080/"
        },
        "id": "yJY23zTiLwqy",
        "outputId": "f61b2155-2eec-4535-c733-392e99a693e9"
      },
      "source": [
        "# define model\n",
        "model = DecisionTreeClassifier(criterion= 'entropy', max_depth = 6, min_samples_leaf = 3,max_features = 7,random_state=42)\n",
        "# define transform\n",
        "transformer = ColumnTransformer(transformers=[('cat', OneHotEncoder(handle_unknown = 'ignore'), [0,1, 6,7])])\n",
        "# define pipeline\n",
        "pipe = Pipeline(steps=[('t', transformer),('o', over), ('s', std),('m',model)])\n",
        "# fit the pipeline on the transformed data\n",
        "pipe.fit(X_train, Y_train)"
      ],
      "execution_count": null,
      "outputs": [
        {
          "output_type": "execute_result",
          "data": {
            "text/plain": [
              "Pipeline(steps=[('t',\n",
              "                 ColumnTransformer(transformers=[('cat',\n",
              "                                                  OneHotEncoder(handle_unknown='ignore'),\n",
              "                                                  [0, 1, 6, 7])])),\n",
              "                ('o', SMOTE(random_state=42)), ('s', StandardScaler()),\n",
              "                ('m',\n",
              "                 DecisionTreeClassifier(criterion='entropy', max_depth=6,\n",
              "                                        max_features=7, min_samples_leaf=3,\n",
              "                                        random_state=42))])"
            ]
          },
          "metadata": {},
          "execution_count": 32
        }
      ]
    },
    {
      "cell_type": "code",
      "metadata": {
        "id": "7x_Y6fGQ-XTH"
      },
      "source": [
        "pickle.dump(pipe, open('/content/drive/MyDrive/ML/ML Projects/Titanic Survival/titanic_survival.pkl','wb'))"
      ],
      "execution_count": null,
      "outputs": []
    },
    {
      "cell_type": "code",
      "metadata": {
        "id": "srhiVt-6_B9p"
      },
      "source": [
        "model = pickle.load(open('/content/drive/MyDrive/ML/ML Projects/Titanic Survival/titanic_survival.pkl','rb'))"
      ],
      "execution_count": null,
      "outputs": []
    },
    {
      "cell_type": "code",
      "metadata": {
        "colab": {
          "base_uri": "https://localhost:8080/"
        },
        "id": "FKfALoj9XHRE",
        "outputId": "8eba7e66-679e-4509-9e50-c383d6ecc165"
      },
      "source": [
        "X_test[30].reshape(1,-1).shape"
      ],
      "execution_count": null,
      "outputs": [
        {
          "output_type": "execute_result",
          "data": {
            "text/plain": [
              "(1, 8)"
            ]
          },
          "metadata": {},
          "execution_count": 35
        }
      ]
    },
    {
      "cell_type": "code",
      "metadata": {
        "colab": {
          "base_uri": "https://localhost:8080/"
        },
        "id": "-lNz_-HKXMSe",
        "outputId": "f82d77a6-21f2-460e-f0ac-4fa4d9dfde33"
      },
      "source": [
        "# model.predict(X_test[30].reshape(1,-1))\n",
        "if model.predict(X_test[40].reshape(1,-1))[0] == 0:\n",
        "  print('ohh!! no , this person didn\\'t survived')\n",
        "else:\n",
        "  print('congrats!!! this person survived titanic incident')"
      ],
      "execution_count": null,
      "outputs": [
        {
          "output_type": "stream",
          "name": "stdout",
          "text": [
            "ohh!! no , this person didn't survived\n"
          ]
        }
      ]
    }
  ]
}